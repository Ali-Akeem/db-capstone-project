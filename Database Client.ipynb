{
 "cells": [
  {
   "cell_type": "code",
   "execution_count": 1,
   "id": "7eb36882",
   "metadata": {},
   "outputs": [],
   "source": [
    "import mysql.connector as connector"
   ]
  },
  {
   "cell_type": "code",
   "execution_count": 2,
   "id": "f5e47165",
   "metadata": {},
   "outputs": [
    {
     "name": "stdout",
     "output_type": "stream",
     "text": [
      "The database in use is:  littlelemondb\n"
     ]
    }
   ],
   "source": [
    "connection = connector.connect(user = \"admin1\", password = \"06082000@Ali\", db = 'LittleLemonDB')\n",
    "print(\"The database in use is: \", connection.database)"
   ]
  },
  {
   "cell_type": "code",
   "execution_count": 3,
   "id": "f390024a",
   "metadata": {},
   "outputs": [],
   "source": [
    "cursor = connection.cursor()"
   ]
  },
  {
   "cell_type": "code",
   "execution_count": 4,
   "id": "ecdc6aef",
   "metadata": {},
   "outputs": [
    {
     "name": "stdout",
     "output_type": "stream",
     "text": [
      "('booking',)\n",
      "('customer',)\n",
      "('menu',)\n",
      "('menuitems',)\n",
      "('orderdelivery',)\n",
      "('orders',)\n",
      "('ordersview',)\n",
      "('staff',)\n"
     ]
    }
   ],
   "source": [
    "show_tables_query = '''SHOW tables''' \n",
    "cursor.execute(show_tables_query)\n",
    "results = cursor.fetchall()\n",
    "for table in results:\n",
    "    print(table)"
   ]
  },
  {
   "cell_type": "code",
   "execution_count": 5,
   "id": "e4a9e939",
   "metadata": {},
   "outputs": [],
   "source": [
    "query = '''\n",
    "select customer.Name, customer.ContactNumber, customer.Email, orders.TotalCost\n",
    "from customer\n",
    "INNER JOIN orders USING(CustomerID)\n",
    "where orders.TotalCost > 60;\n",
    "'''\n",
    "cursor.execute(query)"
   ]
  },
  {
   "cell_type": "code",
   "execution_count": null,
   "id": "38681a2d",
   "metadata": {},
   "outputs": [],
   "source": []
  }
 ],
 "metadata": {
  "kernelspec": {
   "display_name": "Python 3 (ipykernel)",
   "language": "python",
   "name": "python3"
  },
  "language_info": {
   "codemirror_mode": {
    "name": "ipython",
    "version": 3
   },
   "file_extension": ".py",
   "mimetype": "text/x-python",
   "name": "python",
   "nbconvert_exporter": "python",
   "pygments_lexer": "ipython3",
   "version": "3.11.3"
  }
 },
 "nbformat": 4,
 "nbformat_minor": 5
}
